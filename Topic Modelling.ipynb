{
 "cells": [
  {
   "cell_type": "code",
   "execution_count": 1,
   "metadata": {
    "collapsed": false
   },
   "outputs": [],
   "source": [
    "import urllib.request\n",
    "sonnetsUrl = \"http://www.gutenberg.org/cache/epub/1041/pg1041.txt\"\n",
    "sonnetsString = urllib.request.urlopen(sonnetsUrl).read().decode()"
   ]
  },
  {
   "cell_type": "code",
   "execution_count": 2,
   "metadata": {
    "collapsed": false
   },
   "outputs": [],
   "source": [
    "import re, os\n",
    "pythonfilteredSonnetsStart = sonnetsString.find(\"  I\\r\\n\") # title of first sonnet\n",
    "filteredSonnetsEnd = sonnetsString.find(\"End of Project Gutenberg's\") # end of sonnets\n",
    "filteredSonnetsString = sonnetsString[pythonfilteredSonnetsStart:filteredSonnetsEnd].rstrip()\n",
    "sonnetsList = re.split(\"  [A-Z]+\\r\\n\\r\\n\", filteredSonnetsString)\n",
    "sonnetsPath = 'sonnets' # this subdirectory will be relative to the current notebook\n",
    "if not os.path.exists(sonnetsPath):\n",
    "    os.makedirs(sonnetsPath)\n",
    "for index, sonnet in enumerate(sonnetsList): # loop through our list as enumeration to get index\n",
    "    if len(sonnet.strip()) > 0: # make sure we have text, not empty after stripping out whitespace\n",
    "        filename = str(index).zfill(3)+\".txt\" # create filename from index\n",
    "        pathname = os.path.join(sonnetsPath, filename) # directory name and filenamee\n",
    "        f = open(pathname, \"w\")\n",
    "        f.write(sonnet.rstrip()) # write out our sonnet into the file\n",
    "        f.close()"
   ]
  },
  {
   "cell_type": "code",
   "execution_count": 3,
   "metadata": {
    "collapsed": false
   },
   "outputs": [
    {
     "name": "stdout",
     "output_type": "stream",
     "text": [
      "154\n"
     ]
    }
   ],
   "source": [
    "from nltk.corpus import PlaintextCorpusReader\n",
    "sonnetsCorpus = PlaintextCorpusReader(\"sonnets\", \".*\\.txt\")\n",
    "print(len(sonnetsCorpus.fileids()))"
   ]
  },
  {
   "cell_type": "code",
   "execution_count": 4,
   "metadata": {
    "collapsed": false
   },
   "outputs": [],
   "source": [
    "import nltk\n",
    "\n",
    "def get_lists_of_words(corpus, **kwargs): # the ** in front of kwargs does the magic of keyword arguments\n",
    "    documents = [] # list of documents where each document is a list of words\n",
    "    for fileid in corpus.fileids(): # go trough each file in our corpus\n",
    "        \n",
    "        # keep only words and convert them to lowercase\n",
    "        words = [token.lower() for token in corpus.words(fileid) if any([c for c in token if c.isalpha()])]\n",
    "        \n",
    "        # look for \"minLength\" in our keyword arguments and if it's defined, filter our list\n",
    "        if \"minLen\" in kwargs and kwargs[\"minLen\"]: \n",
    "            words = [word for word in words if len(word) >= kwargs[\"minLen\"]]\n",
    "        \n",
    "        # look for \"stopwords\" in our keyword arguments and if any are defined, filter our list\n",
    "        if \"stopwords\" in kwargs and kwargs[\"stopwords\"]: \n",
    "            words = [word for word in words if word not in kwargs[\"stopwords\"]]\n",
    "\n",
    "        # look for \"pos\" in our keyword arguments and if any are defined, filter our list\n",
    "        if \"pos\" in kwargs and kwargs[\"pos\"]: \n",
    "            tagged = nltk.pos_tag(words)\n",
    "            words = [word for word, pos in tagged if pos in kwargs[\"pos\"]]\n",
    "        \n",
    "        documents.append(words) # add our list of words\n",
    "    \n",
    "    return documents # return our list of documents"
   ]
  },
  {
   "cell_type": "code",
   "execution_count": 5,
   "metadata": {
    "collapsed": false
   },
   "outputs": [
    {
     "name": "stdout",
     "output_type": "stream",
     "text": [
      "document 0 ['fairest', 'creatures', 'desire', 'increase', 'thereby']\n",
      "document 1 ['forty', 'winters', 'shall', 'besiege', 'brow']\n"
     ]
    }
   ],
   "source": [
    "sonnetsStopwords = nltk.corpus.stopwords.words('english') # load the default stopword list\n",
    "sonnetsStopwords += [\"thee\", \"thou\", \"thy\"] # append a few more obvious words\n",
    "sonnetsWords = get_lists_of_words(sonnetsCorpus, stopwords=sonnetsStopwords, minLen=3)\n",
    "\n",
    "# have a peek:\n",
    "for i in range(0,2): # first two documents\n",
    "    print(\"document\", str(i), sonnetsWords[i][0:5])"
   ]
  },
  {
   "cell_type": "code",
   "execution_count": 6,
   "metadata": {
    "collapsed": false
   },
   "outputs": [],
   "source": [
    "from gensim import corpora, models\n",
    "\n",
    "def get_lda_from_lists_of_words(lists_of_words, **kwargs):\n",
    "    dictionary = corpora.Dictionary(lists_of_words) # this dictionary maps terms to integers\n",
    "    corpus = [dictionary.doc2bow(text) for text in lists_of_words] # create a bag of words from each document\n",
    "    tfidf = models.TfidfModel(corpus) # this models the significance of words by document\n",
    "    corpus_tfidf = tfidf[corpus]\n",
    "    kwargs[\"id2word\"] = dictionary # set the dictionary\n",
    "    return models.LdaModel(corpus_tfidf, **kwargs) # do the LDA topic modelling"
   ]
  },
  {
   "cell_type": "code",
   "execution_count": 7,
   "metadata": {
    "collapsed": false
   },
   "outputs": [
    {
     "name": "stdout",
     "output_type": "stream",
     "text": [
      "LdaModel(num_terms=2911, num_topics=10, decay=0.5, chunksize=2000)\n"
     ]
    }
   ],
   "source": [
    "sonnetsLda = get_lda_from_lists_of_words(sonnetsWords, num_topics=10, passes=20) # small corpus, so more passes\n",
    "print(sonnetsLda)"
   ]
  },
  {
   "cell_type": "code",
   "execution_count": 8,
   "metadata": {
    "collapsed": true
   },
   "outputs": [],
   "source": [
    "def print_top_terms(lda, num_terms=10):\n",
    "    for i in range(0, lda.num_topics):\n",
    "        terms = [term for val, term in lda.show_topic(i, num_terms)]\n",
    "        print(\"Top 10 terms for topic #\", str(i), \": \", \", \".join(terms))"
   ]
  },
  {
   "cell_type": "code",
   "execution_count": 9,
   "metadata": {
    "collapsed": false
   },
   "outputs": [
    {
     "ename": "TypeError",
     "evalue": "sequence item 0: expected str instance, numpy.float64 found",
     "output_type": "error",
     "traceback": [
      "\u001b[1;31m---------------------------------------------------------------------------\u001b[0m",
      "\u001b[1;31mTypeError\u001b[0m                                 Traceback (most recent call last)",
      "\u001b[1;32m<ipython-input-9-43daa78d5c7a>\u001b[0m in \u001b[0;36m<module>\u001b[1;34m()\u001b[0m\n\u001b[1;32m----> 1\u001b[1;33m \u001b[0mprint_top_terms\u001b[0m\u001b[1;33m(\u001b[0m\u001b[0msonnetsLda\u001b[0m\u001b[1;33m)\u001b[0m\u001b[1;33m\u001b[0m\u001b[0m\n\u001b[0m",
      "\u001b[1;32m<ipython-input-8-dc8aeb89926b>\u001b[0m in \u001b[0;36mprint_top_terms\u001b[1;34m(lda, num_terms)\u001b[0m\n\u001b[0;32m      2\u001b[0m     \u001b[1;32mfor\u001b[0m \u001b[0mi\u001b[0m \u001b[1;32min\u001b[0m \u001b[0mrange\u001b[0m\u001b[1;33m(\u001b[0m\u001b[1;36m0\u001b[0m\u001b[1;33m,\u001b[0m \u001b[0mlda\u001b[0m\u001b[1;33m.\u001b[0m\u001b[0mnum_topics\u001b[0m\u001b[1;33m)\u001b[0m\u001b[1;33m:\u001b[0m\u001b[1;33m\u001b[0m\u001b[0m\n\u001b[0;32m      3\u001b[0m         \u001b[0mterms\u001b[0m \u001b[1;33m=\u001b[0m \u001b[1;33m[\u001b[0m\u001b[0mterm\u001b[0m \u001b[1;32mfor\u001b[0m \u001b[0mval\u001b[0m\u001b[1;33m,\u001b[0m \u001b[0mterm\u001b[0m \u001b[1;32min\u001b[0m \u001b[0mlda\u001b[0m\u001b[1;33m.\u001b[0m\u001b[0mshow_topic\u001b[0m\u001b[1;33m(\u001b[0m\u001b[0mi\u001b[0m\u001b[1;33m,\u001b[0m \u001b[0mnum_terms\u001b[0m\u001b[1;33m)\u001b[0m\u001b[1;33m]\u001b[0m\u001b[1;33m\u001b[0m\u001b[0m\n\u001b[1;32m----> 4\u001b[1;33m         \u001b[0mprint\u001b[0m\u001b[1;33m(\u001b[0m\u001b[1;34m\"Top 10 terms for topic #\"\u001b[0m\u001b[1;33m,\u001b[0m \u001b[0mstr\u001b[0m\u001b[1;33m(\u001b[0m\u001b[0mi\u001b[0m\u001b[1;33m)\u001b[0m\u001b[1;33m,\u001b[0m \u001b[1;34m\": \"\u001b[0m\u001b[1;33m,\u001b[0m \u001b[1;34m\", \"\u001b[0m\u001b[1;33m.\u001b[0m\u001b[0mjoin\u001b[0m\u001b[1;33m(\u001b[0m\u001b[0mterms\u001b[0m\u001b[1;33m)\u001b[0m\u001b[1;33m)\u001b[0m\u001b[1;33m\u001b[0m\u001b[0m\n\u001b[0m",
      "\u001b[1;31mTypeError\u001b[0m: sequence item 0: expected str instance, numpy.float64 found"
     ]
    }
   ],
   "source": [
    "print_top_terms(sonnetsLda)"
   ]
  },
  {
   "cell_type": "markdown",
   "metadata": {},
   "source": [
    "Ugh. I had some problems trying to install gensim, so maybe this is a problem from that? Ask for help, definitely. I guess I can see if I can proceed with this book for now, though. Note that I should refresh my experience with Mallet if I'm going to be doing topic modeling as well. "
   ]
  },
  {
   "cell_type": "code",
   "execution_count": null,
   "metadata": {
    "collapsed": false
   },
   "outputs": [],
   "source": [
    "import networkx as nx\n",
    "import matplotlib.pyplot as plt\n",
    "%matplotlib inline\n",
    "G = nx.Graph()\n",
    "G.add_edge(\"A\", \"X\") # student A went to school X\n",
    "G.add_edge(\"A\", \"Y\") # student A went to school Y\n",
    "G.add_edge(\"B\", \"X\") # student B went to school X\n",
    "G.add_edge(\"C\", \"Y\") # student C went to school X\n",
    "nx.draw(G)"
   ]
  },
  {
   "cell_type": "code",
   "execution_count": null,
   "metadata": {
    "collapsed": false
   },
   "outputs": [],
   "source": [
    "pos = nx.spring_layout(G)\n",
    "nx.draw_networkx_labels(G, pos, font_color='r') # font colour is \"r\" for red\n",
    "nx.draw_networkx_edges(G, pos, alpha=0.1) # set the line alpha transparency to .1\n",
    "plt.axis('off') # don't show the axes for this plot\n",
    "plt.show()"
   ]
  },
  {
   "cell_type": "code",
   "execution_count": null,
   "metadata": {
    "collapsed": false
   },
   "outputs": [],
   "source": [
    "import networkx as nx\n",
    "import matplotlib.pyplot as plt\n",
    "%matplotlib inline\n",
    "\n",
    "def graph_terms_to_topics(lda, num_terms=10):\n",
    "    \n",
    "    # create a new graph and size it\n",
    "    G = nx.Graph()\n",
    "    plt.figure(figsize=(10,10))\n",
    "\n",
    "    # generate the edges\n",
    "    for i in range(0, lda.num_topics):\n",
    "        topicLabel = \"topic \"+str(i)\n",
    "        terms = [term for val, term in lda.show_topic(i, num_terms)]\n",
    "        for term in terms:\n",
    "            G.add_edge(topicLabel, term)\n",
    "    \n",
    "    pos = nx.spring_layout(G) # positions for all nodes\n",
    "    \n",
    "    # we'll plot topic labels and terms labels separately to have different colours\n",
    "    g = G.subgraph([topic for topic, _ in pos.items() if \"topic \" in topic])\n",
    "    nx.draw_networkx_labels(g, pos,  font_color='r')\n",
    "    g = G.subgraph([term for term, _ in pos.items() if \"topic \" not in term])\n",
    "    nx.draw_networkx_labels(g, pos)\n",
    "    \n",
    "    # plot edges\n",
    "    nx.draw_networkx_edges(G, pos, edgelist=G.edges(), alpha=0.1)\n",
    "\n",
    "    plt.axis('off')\n",
    "    plt.show()\n",
    "\n",
    "graph_terms_to_topics(sonnetsLda)"
   ]
  },
  {
   "cell_type": "markdown",
   "metadata": {},
   "source": [
    "Welp, and I guess there it goes. That's unfortunate. Get help re: this - probably an install or out-of-date problem. \n",
    "\n",
    "### Next Steps\n",
    "\n",
    "Try the following tasks to see if you can refine the topics:\n",
    "\n",
    "- experiment with arguments to get_lists_of_words()\n",
    "    - minLength of words\n",
    "    - stopwords\n",
    "    - parts-of-speech arguments (remember that these are Treebank codes)\n",
    "    - add an argument to the function (and try it) that determines if words are converted to lowercase\n",
    "- experiment with arguments to get_lda_from_lists_of_words(), in other words to LdaModel()\n",
    "\n",
    "Which tweaks seem to make the most difference?"
   ]
  },
  {
   "cell_type": "code",
   "execution_count": null,
   "metadata": {
    "collapsed": true
   },
   "outputs": [],
   "source": []
  },
  {
   "cell_type": "code",
   "execution_count": null,
   "metadata": {
    "collapsed": true
   },
   "outputs": [],
   "source": []
  }
 ],
 "metadata": {
  "kernelspec": {
   "display_name": "Python 3",
   "language": "python",
   "name": "python3"
  },
  "language_info": {
   "codemirror_mode": {
    "name": "ipython",
    "version": 3
   },
   "file_extension": ".py",
   "mimetype": "text/x-python",
   "name": "python",
   "nbconvert_exporter": "python",
   "pygments_lexer": "ipython3",
   "version": "3.5.1"
  }
 },
 "nbformat": 4,
 "nbformat_minor": 0
}
