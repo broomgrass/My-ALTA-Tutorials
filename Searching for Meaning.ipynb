{
 "cells": [
  {
   "cell_type": "code",
   "execution_count": 26,
   "metadata": {
    "collapsed": true
   },
   "outputs": [],
   "source": [
    "# read Gold Bug plain text into string\n",
    "f = open(\"data/goldBug.txt\", \"r\")\n",
    "goldBugString = f.read()\n",
    "f.close()"
   ]
  },
  {
   "cell_type": "code",
   "execution_count": 27,
   "metadata": {
    "collapsed": true
   },
   "outputs": [],
   "source": [
    "import nltk\n",
    "goldBugTokens = nltk.word_tokenize(goldBugString)\n",
    "goldBugWordTokens = [word for word in goldBugTokens if any(c.isalpha() for c in word)]\n",
    "goldBugWordTokensLowercase = [word.lower() for word in goldBugWordTokens]"
   ]
  },
  {
   "cell_type": "code",
   "execution_count": 28,
   "metadata": {
    "collapsed": false
   },
   "outputs": [
    {
     "name": "stdout",
     "output_type": "stream",
     "text": [
      "Number of matches  38\n",
      "Variant forms:  {'bug', 'goole-bug', 'goole-bugs', 'GOLD-BUG'}\n"
     ]
    }
   ],
   "source": [
    "bugTokens = [word for word in goldBugWordTokens if \"bug\" in word.lower()]\n",
    "print(\"Number of matches \", len(bugTokens))\n",
    "print(\"Variant forms: \", set(bugTokens))"
   ]
  },
  {
   "cell_type": "code",
   "execution_count": 29,
   "metadata": {
    "collapsed": false
   },
   "outputs": [
    {
     "name": "stdout",
     "output_type": "stream",
     "text": [
      "bug:  bug\n",
      "bugs:  bug\n",
      "bugging:  bug\n",
      "baking:  bake\n",
      "bakery:  bakeri\n",
      "bakeries:  bakeri\n"
     ]
    }
   ],
   "source": [
    "from nltk.stem import PorterStemmer\n",
    "stemmer = PorterStemmer()\n",
    "print(\"bug: \", stemmer.stem(\"bug\")) # bug\n",
    "print(\"bugs: \", stemmer.stem(\"bugs\")) # bug\n",
    "print(\"bugging: \", stemmer.stem(\"bugging\")) # bug\n",
    "print(\"baking: \", stemmer.stem(\"baking\")) # bake\n",
    "print(\"bakery: \", stemmer.stem(\"bakery\")) # bakeri\n",
    "print(\"bakeries: \", stemmer.stem(\"bakeries\")) # bakeri"
   ]
  },
  {
   "cell_type": "code",
   "execution_count": 30,
   "metadata": {
    "collapsed": false
   },
   "outputs": [
    {
     "name": "stdout",
     "output_type": "stream",
     "text": [
      "bug:  bug\n",
      "bugs:  bug\n",
      "bugging:  bugging\n",
      "baking:  baking\n",
      "bakery:  bakery\n",
      "bakeries:  bakery\n"
     ]
    }
   ],
   "source": [
    "from nltk.stem import WordNetLemmatizer\n",
    "wnl = WordNetLemmatizer()\n",
    "print(\"bug: \", wnl.lemmatize(\"bug\")) # bug\n",
    "print(\"bugs: \", wnl.lemmatize(\"bugs\")) # bug\n",
    "print(\"bugging: \", wnl.lemmatize(\"bugging\")) # bugging\n",
    "print(\"baking: \", wnl.lemmatize(\"baking\")) # baking\n",
    "print(\"bakery: \", wnl.lemmatize(\"bakery\")) # bakery\n",
    "print(\"bakeries: \", wnl.lemmatize(\"bakeries\")) # bakery"
   ]
  },
  {
   "cell_type": "code",
   "execution_count": 31,
   "metadata": {
    "collapsed": false
   },
   "outputs": [
    {
     "name": "stdout",
     "output_type": "stream",
     "text": [
      "baking:  baking\n",
      "baking:  bake\n"
     ]
    }
   ],
   "source": [
    "print(\"baking: \", wnl.lemmatize(\"baking\")) # baking\n",
    "print(\"baking: \", wnl.lemmatize(\"baking\", pos=\"v\")) # bake"
   ]
  },
  {
   "cell_type": "code",
   "execution_count": 32,
   "metadata": {
    "collapsed": true
   },
   "outputs": [],
   "source": [
    "goldBugLemmas = [wnl.lemmatize(word) for word in goldBugWordTokens]"
   ]
  },
  {
   "cell_type": "code",
   "execution_count": 33,
   "metadata": {
    "collapsed": false
   },
   "outputs": [
    {
     "name": "stdout",
     "output_type": "stream",
     "text": [
      "Count of \"bug\" in tokens 32\n",
      "Count of \"bugs\" in tokens 0\n",
      "Count of \"bug\" in lemmas 32\n",
      "Count of \"eye\" in tokens 20\n",
      "Count of \"eyes\" in tokens 8\n",
      "Count of \"eye\" in lemmas 28\n"
     ]
    }
   ],
   "source": [
    "print('Count of \"bug\" in tokens', goldBugWordTokens.count(\"bug\"))\n",
    "print('Count of \"bugs\" in tokens', goldBugWordTokens.count(\"bugs\"))\n",
    "print('Count of \"bug\" in lemmas', goldBugLemmas.count(\"bug\"))\n",
    "print('Count of \"eye\" in tokens', goldBugWordTokens.count(\"eye\"))\n",
    "print('Count of \"eyes\" in tokens', goldBugWordTokens.count(\"eyes\"))\n",
    "print('Count of \"eye\" in lemmas', goldBugLemmas.count(\"eye\"))"
   ]
  },
  {
   "cell_type": "code",
   "execution_count": 34,
   "metadata": {
    "collapsed": false
   },
   "outputs": [
    {
     "data": {
      "image/png": "[encoded data removed]",
      "text/plain": [
       "<matplotlib.figure.Figure at 0x21479687630>"
      ]
     },
     "metadata": {},
     "output_type": "display_data"
    },
    {
     "data": {
      "image/png": "[encoded data removed]",
      "text/plain": [
       "<matplotlib.figure.Figure at 0x21472da4588>"
      ]
     },
     "metadata": {},
     "output_type": "display_data"
    }
   ],
   "source": [
    "%matplotlib inline\n",
    "nltk.Text(goldBugWordTokens).dispersion_plot([\"eye\"]) # first graph with tokens (eye)\n",
    "nltk.Text(goldBugLemmas).dispersion_plot([\"eye\"]) # second graph with lemmas (eye and eyes)"
   ]
  },
  {
   "cell_type": "code",
   "execution_count": 35,
   "metadata": {
    "collapsed": false
   },
   "outputs": [
    {
     "data": {
      "text/plain": [
       "[Synset('bug.n.01'),\n",
       " Synset('bug.n.02'),\n",
       " Synset('bug.n.03'),\n",
       " Synset('hemipterous_insect.n.01'),\n",
       " Synset('microbe.n.01'),\n",
       " Synset('tease.v.01'),\n",
       " Synset('wiretap.v.01')]"
      ]
     },
     "execution_count": 35,
     "metadata": {},
     "output_type": "execute_result"
    }
   ],
   "source": [
    "from nltk.corpus import wordnet as wn\n",
    "wn.synsets(\"bug\")"
   ]
  },
  {
   "cell_type": "code",
   "execution_count": 36,
   "metadata": {
    "collapsed": false
   },
   "outputs": [
    {
     "data": {
      "text/plain": [
       "[Synset('bug.n.01'),\n",
       " Synset('bug.n.02'),\n",
       " Synset('bug.n.03'),\n",
       " Synset('hemipterous_insect.n.01'),\n",
       " Synset('microbe.n.01')]"
      ]
     },
     "execution_count": 36,
     "metadata": {},
     "output_type": "execute_result"
    }
   ],
   "source": [
    "wn.synsets(\"bug\", pos=\"n\")"
   ]
  },
  {
   "cell_type": "code",
   "execution_count": 37,
   "metadata": {
    "collapsed": false
   },
   "outputs": [
    {
     "name": "stdout",
     "output_type": "stream",
     "text": [
      "bug.n.01 :  general term for any insect or similar creeping or crawling invertebrate\n",
      "bug.n.02 :  a fault or defect in a computer program, system, or machine\n",
      "bug.n.03 :  a small hidden microphone; for listening secretly\n",
      "hemipterous_insect.n.01 :  insects with sucking mouthparts and forewings thickened and leathery at the base; usually show incomplete metamorphosis\n",
      "microbe.n.01 :  a minute life form (especially a disease-causing bacterium); the term is not in technical use\n"
     ]
    }
   ],
   "source": [
    "for synset in wn.synsets(\"bug\", pos=\"n\"):\n",
    "    print(synset.name(), \": \", synset.definition())"
   ]
  },
  {
   "cell_type": "code",
   "execution_count": 38,
   "metadata": {
    "collapsed": false
   },
   "outputs": [
    {
     "name": "stdout",
     "output_type": "stream",
     "text": [
      "Synset('bug.n.01') general term for any insect or similar creeping or crawling invertebrate\n"
     ]
    }
   ],
   "source": [
    "bugSynset = wn.synset(\"bug.n.01\")\n",
    "print(bugSynset, bugSynset.definition())"
   ]
  },
  {
   "cell_type": "code",
   "execution_count": 39,
   "metadata": {
    "collapsed": false
   },
   "outputs": [
    {
     "data": {
      "text/plain": [
       "[Synset('insect.n.01')]"
      ]
     },
     "execution_count": 39,
     "metadata": {},
     "output_type": "execute_result"
    }
   ],
   "source": [
    "bugSynset.hypernyms()"
   ]
  },
  {
   "cell_type": "code",
   "execution_count": 40,
   "metadata": {
    "collapsed": false
   },
   "outputs": [
    {
     "name": "stdout",
     "output_type": "stream",
     "text": [
      "Synset('insect.n.01') small air-breathing arthropod\n"
     ]
    }
   ],
   "source": [
    "bugHypernym = wn.synset(\"insect.n.01\")\n",
    "print(bugHypernym, bugHypernym.definition())"
   ]
  },
  {
   "cell_type": "code",
   "execution_count": 41,
   "metadata": {
    "collapsed": false
   },
   "outputs": [
    {
     "data": {
      "text/plain": [
       "[Synset('beetle.n.01'),\n",
       " Synset('bird_louse.n.01'),\n",
       " Synset('bug.n.01'),\n",
       " Synset('collembolan.n.01'),\n",
       " Synset('defoliator.n.01'),\n",
       " Synset('dictyopterous_insect.n.01'),\n",
       " Synset('dipterous_insect.n.01'),\n",
       " Synset('earwig.n.01'),\n",
       " Synset('ephemerid.n.01'),\n",
       " Synset('ephemeron.n.01'),\n",
       " Synset('flea.n.01'),\n",
       " Synset('gallfly.n.03'),\n",
       " Synset('hemipterous_insect.n.01'),\n",
       " Synset('heteropterous_insect.n.01'),\n",
       " Synset('holometabola.n.01'),\n",
       " Synset('homopterous_insect.n.01'),\n",
       " Synset('hymenopterous_insect.n.01'),\n",
       " Synset('imago.n.02'),\n",
       " Synset('leaf_miner.n.01'),\n",
       " Synset('lepidopterous_insect.n.01'),\n",
       " Synset('louse.n.01'),\n",
       " Synset('mecopteran.n.01'),\n",
       " Synset('neuropteron.n.01'),\n",
       " Synset('odonate.n.01'),\n",
       " Synset('orthopterous_insect.n.01'),\n",
       " Synset('phasmid.n.01'),\n",
       " Synset('pollinator.n.01'),\n",
       " Synset('proturan.n.01'),\n",
       " Synset('psocopterous_insect.n.01'),\n",
       " Synset('pupa.n.01'),\n",
       " Synset('queen.n.01'),\n",
       " Synset('social_insect.n.01'),\n",
       " Synset('stonefly.n.01'),\n",
       " Synset('termite.n.01'),\n",
       " Synset('thysanopter.n.01'),\n",
       " Synset('thysanuran_insect.n.01'),\n",
       " Synset('trichopterous_insect.n.01'),\n",
       " Synset('web_spinner.n.01'),\n",
       " Synset('worker.n.03')]"
      ]
     },
     "execution_count": 41,
     "metadata": {},
     "output_type": "execute_result"
    }
   ],
   "source": [
    "bugHypernym.hyponyms()\n"
   ]
  },
  {
   "cell_type": "code",
   "execution_count": 42,
   "metadata": {
    "collapsed": false
   },
   "outputs": [
    {
     "name": "stdout",
     "output_type": "stream",
     "text": [
      "['tusser', 'tussock_moth', 'tussore', 'tussur', 'two-spotted_ladybug', 'two-winged_insects', 'tzetze', 'tzetze_fly', 'underwing', 'vedalia', 'velvet_ant', 'vespid', 'vespid_wasp', 'viceroy', 'vinegar_fly', 'walking_leaf', 'walking_stick', 'walkingstick', 'warble_fly', 'wasp', 'water_beetle', 'water_boatman', 'water_bug', 'water_scorpion', 'water_skater', 'water_strider', 'wax_insect', 'wax_moth', 'web_spinner', 'webbing_clothes_moth', 'webbing_moth', 'webworm_moth', 'weevil', 'wheel_bug', 'whirligig_beetle', 'white-faced_hornet', 'white_admiral', 'white_ant', 'whitefly', 'wood_ant', 'woolly_adelgid', 'woolly_alder_aphid', 'woolly_aphid', 'woolly_apple_aphid', 'woolly_plant_louse', 'worker', 'worker_bee', 'yellow-fever_mosquito', 'yellow_hornet', 'yellow_jacket']\n"
     ]
    }
   ],
   "source": [
    "insectHyponymsTricky = sorted(set([l.name() for s in bugHypernym.closure(lambda s:s.hyponyms()) for l in s.lemmas()]))\n",
    "print(insectHyponymsTricky[-50:]) # peek at last 50"
   ]
  },
  {
   "cell_type": "code",
   "execution_count": 43,
   "metadata": {
    "collapsed": false
   },
   "outputs": [
    {
     "name": "stdout",
     "output_type": "stream",
     "text": [
      "20\n"
     ]
    }
   ],
   "source": [
    "def add_five_until_twenty(val):\n",
    "    val+=5\n",
    "    if val >= 20: # we have at least 20, so return\n",
    "        return val\n",
    "    else: # call this function again\n",
    "        return add_five_until_twenty(val)\n",
    "\n",
    "print(add_five_until_twenty(0)) # returns 20"
   ]
  },
  {
   "cell_type": "code",
   "execution_count": 51,
   "metadata": {
    "collapsed": false
   },
   "outputs": [],
   "source": [
    "def collect_hyponym_lemma_names(synset, hyponym_names):\n",
    "    for hyponym in synset.hyponyms(): # go through this synset's hyponyms\n",
    "        for lemma in hyponym.lemmas(): # go through each hyponym's lemma\n",
    "            hyponym_names.append(lemma.name()) # add this lemma name to our list\n",
    "        collect_hyponym_lemma_names(hyponym, hyponym_names) # this this hyponym's hyponyms"
   ]
  },
  {
   "cell_type": "code",
   "execution_count": 52,
   "metadata": {
    "collapsed": false
   },
   "outputs": [
    {
     "name": "stdout",
     "output_type": "stream",
     "text": [
      "['tusser', 'tussock_moth', 'tussore', 'tussur', 'two-spotted_ladybug', 'two-winged_insects', 'tzetze', 'tzetze_fly', 'underwing', 'vedalia', 'velvet_ant', 'vespid', 'vespid_wasp', 'viceroy', 'vinegar_fly', 'walking_leaf', 'walking_stick', 'walkingstick', 'warble_fly', 'wasp', 'water_beetle', 'water_boatman', 'water_bug', 'water_scorpion', 'water_skater', 'water_strider', 'wax_insect', 'wax_moth', 'web_spinner', 'webbing_clothes_moth', 'webbing_moth', 'webworm_moth', 'weevil', 'wheel_bug', 'whirligig_beetle', 'white-faced_hornet', 'white_admiral', 'white_ant', 'whitefly', 'wood_ant', 'woolly_adelgid', 'woolly_alder_aphid', 'woolly_aphid', 'woolly_apple_aphid', 'woolly_plant_louse', 'worker', 'worker_bee', 'yellow-fever_mosquito', 'yellow_hornet', 'yellow_jacket']\n"
     ]
    }
   ],
   "source": [
    "insect_hyponym_names = [] # this list will keep track of our hyponyns\n",
    "collect_hyponym_lemma_names(bugHypernym, insect_hyponym_names) # call our function with the bugHypernym\n",
    "insect_hyponym_names = sorted(set(insect_hyponym_names))\n",
    "print(insect_hyponym_names[-50:])"
   ]
  },
  {
   "cell_type": "code",
   "execution_count": 53,
   "metadata": {
    "collapsed": true
   },
   "outputs": [],
   "source": [
    "def get_hyponym_names_from_hypernym(synset):\n",
    "    names = []\n",
    "    for hypernym in synset.hypernyms():\n",
    "        collect_hyponym_lemma_names(hypernym, names)\n",
    "    return sorted(set(names))"
   ]
  },
  {
   "cell_type": "code",
   "execution_count": 54,
   "metadata": {
    "collapsed": false
   },
   "outputs": [
    {
     "name": "stdout",
     "output_type": "stream",
     "text": [
      "Synset('bug.n.01') has 886 hyponyms\n"
     ]
    }
   ],
   "source": [
    "bug_hypernym_hyponyms = get_hyponym_names_from_hypernym(bugSynset)\n",
    "print(bugSynset, \"has\", len(bug_hypernym_hyponyms), \"hyponyms\")"
   ]
  },
  {
   "cell_type": "code",
   "execution_count": 55,
   "metadata": {
    "collapsed": false
   },
   "outputs": [
    {
     "data": {
      "text/plain": [
       "['bug', 'bee', 'soldier', 'beetle', 'scarabaeus']"
      ]
     },
     "execution_count": 55,
     "metadata": {},
     "output_type": "execute_result"
    }
   ],
   "source": [
    "bugRelatedWords = list(set([word for word in goldBugLemmas if word in bug_hypernym_hyponyms]))\n",
    "bugRelatedWords"
   ]
  },
  {
   "cell_type": "code",
   "execution_count": 56,
   "metadata": {
    "collapsed": false
   },
   "outputs": [
    {
     "name": "stdout",
     "output_type": "stream",
     "text": [
      "Displaying 1 of 1 matches:\n",
      " looking dis here way wid he head down and he soldier up and a white a a gose And den he keep a syp\n"
     ]
    }
   ],
   "source": [
    "goldBugText = nltk.Text(goldBugLemmas)\n",
    "goldBugText.concordance(\"soldier\", 100)"
   ]
  },
  {
   "cell_type": "code",
   "execution_count": 57,
   "metadata": {
    "collapsed": false
   },
   "outputs": [
    {
     "data": {
      "text/plain": [
       "['bug', 'bee', 'beetle', 'scarabaeus']"
      ]
     },
     "execution_count": 57,
     "metadata": {},
     "output_type": "execute_result"
    }
   ],
   "source": [
    "bugRelatedWordsFiltered = [word for word in bugRelatedWords if \"soldier\" not in word]\n",
    "bugRelatedWordsFiltered"
   ]
  },
  {
   "cell_type": "code",
   "execution_count": 58,
   "metadata": {
    "collapsed": false
   },
   "outputs": [
    {
     "data": {
      "image/png": "[encoded data removed]",
      "text/plain": [
       "<matplotlib.figure.Figure at 0x21472dbf0b8>"
      ]
     },
     "metadata": {},
     "output_type": "display_data"
    }
   ],
   "source": [
    "goldBugText.dispersion_plot(bugRelatedWordsFiltered)\n"
   ]
  },
  {
   "cell_type": "code",
   "execution_count": 59,
   "metadata": {
    "collapsed": false
   },
   "outputs": [
    {
     "data": {
      "image/png": "[encoded data removed]",
      "text/plain": [
       "<matplotlib.figure.Figure at 0x21472def198>"
      ]
     },
     "metadata": {},
     "output_type": "display_data"
    }
   ],
   "source": [
    "goldBugLemmasForBugs = [\"bugword\" if word in bugRelatedWordsFiltered else word for word in goldBugLemmas]\n",
    "goldBugTextForBugs = nltk.Text(goldBugLemmasForBugs)\n",
    "goldBugTextForBugs.dispersion_plot([\"bugword\"]) # this plots a composition of bee, scarabaeus, bug and beetle"
   ]
  },
  {
   "cell_type": "code",
   "execution_count": 60,
   "metadata": {
    "collapsed": false
   },
   "outputs": [
    {
     "name": "stdout",
     "output_type": "stream",
     "text": [
      "56 32\n"
     ]
    },
    {
     "data": {
      "text/plain": [
       "175.0"
      ]
     },
     "execution_count": 60,
     "metadata": {},
     "output_type": "execute_result"
    }
   ],
   "source": [
    "print(goldBugLemmasForBugs.count(\"bugword\"),goldBugTokens.count(\"bug\"))\n",
    "goldBugLemmasForBugs.count(\"bugword\") * 100 / goldBugTokens.count(\"bug\")"
   ]
  },
  {
   "cell_type": "code",
   "execution_count": 61,
   "metadata": {
    "collapsed": false
   },
   "outputs": [
    {
     "name": "stdout",
     "output_type": "stream",
     "text": [
      "scarabæus parchment skull tree insect peg whole island hut boat spade\n",
      "character slip hearth kind solution pit table line scrap\n"
     ]
    }
   ],
   "source": [
    "goldBugTextForBugs.similar(\"bugword\")"
   ]
  },
  {
   "cell_type": "code",
   "execution_count": 62,
   "metadata": {
    "collapsed": false
   },
   "outputs": [
    {
     "data": {
      "image/png": "[encoded data removed]",
      "text/plain": [
       "<matplotlib.figure.Figure at 0x2147aebabe0>"
      ]
     },
     "metadata": {},
     "output_type": "display_data"
    }
   ],
   "source": [
    "goldBugBugContextIndex = nltk.text.ContextIndex(goldBugLemmasForBugs)\n",
    "goldBugBugSimilarities = goldBugBugContextIndex.word_similarity_dict(\"bugword\")\n",
    "del goldBugBugSimilarities['bugword'] # we don't want to include \"bugword\" itself in our dictionary\n",
    "goldBugBugSimilarityFreqs = nltk.FreqDist(goldBugBugSimilarities) # copy the dictionary into a FreqDist\n",
    "goldBugBugSimilarityFreqs.plot(30)"
   ]
  },
  {
   "cell_type": "markdown",
   "metadata": {},
   "source": [
    "# next steps"
   ]
  },
  {
   "cell_type": "markdown",
   "metadata": {},
   "source": [
    "What's the count of \"bug\" in our goldBugWordTokens list and of \"bugword\" in our goldBugLemmasForBugs list?"
   ]
  },
  {
   "cell_type": "code",
   "execution_count": 65,
   "metadata": {
    "collapsed": false
   },
   "outputs": [
    {
     "name": "stdout",
     "output_type": "stream",
     "text": [
      "Number of counts for bug in goldBugWordTokens: 73\n"
     ]
    }
   ],
   "source": [
    "print(\"Number of counts for bug in goldBugWordTokens:\", goldBugWordTokens.count(\"but\"))\n",
    "# well, there's the first half, although that seemed too simple."
   ]
  },
  {
   "cell_type": "code",
   "execution_count": 69,
   "metadata": {
    "collapsed": false
   },
   "outputs": [
    {
     "name": "stdout",
     "output_type": "stream",
     "text": [
      "Number of counts for bugword in our goldBugLemmasForBugs list: 56\n"
     ]
    }
   ],
   "source": [
    "# now, on to the \"bugword\" in the lemmas list - can I just do the same thing?\n",
    "print(\"Number of counts for bugword in our goldBugLemmasForBugs list:\", goldBugLemmasForBugs.count(\"bugword\"))\n",
    "# again, that seems too simple, but the question didn't specify hyponyms or anything, so that's fine I suppose!"
   ]
  },
  {
   "cell_type": "markdown",
   "metadata": {},
   "source": [
    "What's the percentage increase in coverage that we get by lemmatizing and looking related words using WordNet?"
   ]
  },
  {
   "cell_type": "code",
   "execution_count": 70,
   "metadata": {
    "collapsed": false
   },
   "outputs": [
    {
     "name": "stdout",
     "output_type": "stream",
     "text": [
      "Number of matches  38\n"
     ]
    }
   ],
   "source": [
    "# first, establish what the coverage was before lemmatizing and WordNet\n",
    "# I'll just repeat an earlier process\n",
    "bugTokens = [word for word in goldBugWordTokens if \"bug\" in word.lower()]\n",
    "# that should be before all the lemmatization\n",
    "print(\"Number of matches \", len(bugTokens))\n"
   ]
  },
  {
   "cell_type": "code",
   "execution_count": 76,
   "metadata": {
    "collapsed": false
   },
   "outputs": [],
   "source": [
    "# okay, but I'm curious to see what happens with stemming, but pre-lemma and wordnet\n",
    "goldStems = [stemmer.stem(\"bug\") for word in goldBugWordTokens]"
   ]
  },
  {
   "cell_type": "code",
   "execution_count": 80,
   "metadata": {
    "collapsed": false
   },
   "outputs": [
    {
     "name": "stdout",
     "output_type": "stream",
     "text": [
      "Number of matches  13639\n"
     ]
    }
   ],
   "source": [
    "print(\"Number of matches \", goldStems.count(\"bug\"))"
   ]
  },
  {
   "cell_type": "code",
   "execution_count": 81,
   "metadata": {
    "collapsed": false
   },
   "outputs": [
    {
     "name": "stdout",
     "output_type": "stream",
     "text": [
      "13639\n"
     ]
    }
   ],
   "source": [
    "# ummm. That doesn't look right, even though I tried the following variation too -\n",
    "print(len(goldStems))"
   ]
  },
  {
   "cell_type": "code",
   "execution_count": 82,
   "metadata": {
    "collapsed": false
   },
   "outputs": [
    {
     "name": "stdout",
     "output_type": "stream",
     "text": [
      "Number of matches  38\n"
     ]
    }
   ],
   "source": [
    "# Well, I guess I can give up on that for now and perhaps come back to that\n",
    "# if I ever need to. Let's go back to doing the comparison - \n",
    "print(\"Number of matches \", len(bugTokens))"
   ]
  },
  {
   "cell_type": "code",
   "execution_count": 84,
   "metadata": {
    "collapsed": false
   },
   "outputs": [
    {
     "name": "stdout",
     "output_type": "stream",
     "text": [
      "56 32\n"
     ]
    },
    {
     "data": {
      "text/plain": [
       "175.0"
      ]
     },
     "execution_count": 84,
     "metadata": {},
     "output_type": "execute_result"
    }
   ],
   "source": [
    "# bloo be bloo, already in the code - \n",
    "print(goldBugLemmasForBugs.count(\"bugword\"),goldBugTokens.count(\"bug\"))\n",
    "goldBugLemmasForBugs.count(\"bugword\") * 100 / goldBugTokens.count(\"bug\")"
   ]
  },
  {
   "cell_type": "markdown",
   "metadata": {},
   "source": [
    "What's another word in The Gold Bug where the percentage increase is greater using the same process we followed:\n",
    "    - choose a word and find the synset that is most relevant to the text's meaning\n",
    "    - create a list of all the hyponyms of the hypernym of the synset (using our get_hyponym_names_from_hypernym function)\n",
    "    - replace all occurrences of the hyponyms with a standard word form (we used \"bugword\" last time)"
   ]
  },
  {
   "cell_type": "code",
   "execution_count": 85,
   "metadata": {
    "collapsed": false
   },
   "outputs": [
    {
     "name": "stdout",
     "output_type": "stream",
     "text": [
      "Number of matches  17\n",
      "Variant forms:  {'paper'}\n"
     ]
    }
   ],
   "source": [
    "# the word I choose is \"paper\"!\n",
    "paperTokens = [word for word in goldBugWordTokens if \"paper\" in word.lower()]\n",
    "print(\"Number of matches \", len(paperTokens))\n",
    "print(\"Variant forms: \", set(paperTokens))\n"
   ]
  },
  {
   "cell_type": "code",
   "execution_count": 86,
   "metadata": {
    "collapsed": false
   },
   "outputs": [
    {
     "data": {
      "image/png": "[encoded data removed]",
      "text/plain": [
       "<matplotlib.figure.Figure at 0x21472d7fba8>"
      ]
     },
     "metadata": {},
     "output_type": "display_data"
    },
    {
     "data": {
      "image/png": "[encoded data removed]",
      "text/plain": [
       "<matplotlib.figure.Figure at 0x21479521cc0>"
      ]
     },
     "metadata": {},
     "output_type": "display_data"
    }
   ],
   "source": [
    "# for fun, I'm going to try doing a dispersion plot with paper\n",
    "# although I doubt that there will be much change\n",
    "%matplotlib inline\n",
    "nltk.Text(goldBugWordTokens).dispersion_plot([\"paper\"]) # first graph with tokens (eye)\n",
    "nltk.Text(goldBugLemmas).dispersion_plot([\"paper\"]) # second graph with lemmas (eye and eyes)"
   ]
  },
  {
   "cell_type": "code",
   "execution_count": 87,
   "metadata": {
    "collapsed": false
   },
   "outputs": [
    {
     "data": {
      "text/plain": [
       "[Synset('paper.n.01'),\n",
       " Synset('composition.n.08'),\n",
       " Synset('newspaper.n.01'),\n",
       " Synset('paper.n.04'),\n",
       " Synset('paper.n.05'),\n",
       " Synset('newspaper.n.02'),\n",
       " Synset('newspaper.n.03'),\n",
       " Synset('paper.v.01'),\n",
       " Synset('wallpaper.v.01')]"
      ]
     },
     "execution_count": 87,
     "metadata": {},
     "output_type": "execute_result"
    }
   ],
   "source": [
    "wn.synsets(\"paper\")"
   ]
  },
  {
   "cell_type": "code",
   "execution_count": 89,
   "metadata": {
    "collapsed": false
   },
   "outputs": [
    {
     "data": {
      "text/plain": [
       "[Synset('paper.n.01'),\n",
       " Synset('composition.n.08'),\n",
       " Synset('newspaper.n.01'),\n",
       " Synset('paper.n.04'),\n",
       " Synset('paper.n.05'),\n",
       " Synset('newspaper.n.02'),\n",
       " Synset('newspaper.n.03')]"
      ]
     },
     "execution_count": 89,
     "metadata": {},
     "output_type": "execute_result"
    }
   ],
   "source": [
    "wn.synsets(\"paper\", pos=\"n\")"
   ]
  },
  {
   "cell_type": "code",
   "execution_count": 90,
   "metadata": {
    "collapsed": false
   },
   "outputs": [
    {
     "name": "stdout",
     "output_type": "stream",
     "text": [
      "paper.n.01 :  a material made of cellulose pulp derived mainly from wood or rags or certain grasses\n",
      "composition.n.08 :  an essay (especially one written as an assignment)\n",
      "newspaper.n.01 :  a daily or weekly publication on folded sheets; contains news and articles and advertisements\n",
      "paper.n.04 :  a medium for written communication\n",
      "paper.n.05 :  a scholarly article describing the results of observations or stating hypotheses\n",
      "newspaper.n.02 :  a business firm that publishes newspapers\n",
      "newspaper.n.03 :  the physical object that is the product of a newspaper publisher\n"
     ]
    }
   ],
   "source": [
    "# I definitely don't need some of these, so I'll make sure to cut them, but let's check definitions\n",
    "for synset in wn.synsets(\"paper\", pos=\"n\"):\n",
    "    print(synset.name(), \": \", synset.definition())"
   ]
  },
  {
   "cell_type": "code",
   "execution_count": 91,
   "metadata": {
    "collapsed": false
   },
   "outputs": [
    {
     "name": "stdout",
     "output_type": "stream",
     "text": [
      "Synset('paper.n.01') a material made of cellulose pulp derived mainly from wood or rags or certain grasses\n"
     ]
    }
   ],
   "source": [
    "# first one looks the best!\n",
    "paperSynset = wn.synset(\"paper.n.01\")\n",
    "print(paperSynset, paperSynset.definition())"
   ]
  },
  {
   "cell_type": "code",
   "execution_count": 92,
   "metadata": {
    "collapsed": false
   },
   "outputs": [
    {
     "data": {
      "text/plain": [
       "[Synset('material.n.01')]"
      ]
     },
     "execution_count": 92,
     "metadata": {},
     "output_type": "execute_result"
    }
   ],
   "source": [
    "paperSynset.hypernyms()"
   ]
  },
  {
   "cell_type": "code",
   "execution_count": 93,
   "metadata": {
    "collapsed": false
   },
   "outputs": [
    {
     "name": "stdout",
     "output_type": "stream",
     "text": [
      "Synset('paper.n.01') a material made of cellulose pulp derived mainly from wood or rags or certain grasses\n"
     ]
    }
   ],
   "source": [
    "paperHypernym = wn.synset(\"paper.n.01\")\n",
    "print(paperHypernym, paperHypernym.definition())"
   ]
  },
  {
   "cell_type": "code",
   "execution_count": 94,
   "metadata": {
    "collapsed": false
   },
   "outputs": [
    {
     "data": {
      "text/plain": [
       "[Synset('art_paper.n.01'),\n",
       " Synset('blotting_paper.n.01'),\n",
       " Synset('blueprint_paper.n.01'),\n",
       " Synset('carbon_paper.n.01'),\n",
       " Synset('card.n.01'),\n",
       " Synset('cardboard.n.01'),\n",
       " Synset('cartridge_paper.n.02'),\n",
       " Synset('chad.n.01'),\n",
       " Synset('computer_paper.n.01'),\n",
       " Synset('confetti.n.01'),\n",
       " Synset('construction_paper.n.01'),\n",
       " Synset('crepe.n.01'),\n",
       " Synset('drawing_paper.n.01'),\n",
       " Synset('filter_paper.n.01'),\n",
       " Synset('flypaper.n.01'),\n",
       " Synset('graph_paper.n.01'),\n",
       " Synset('greaseproof_paper.n.01'),\n",
       " Synset('india_paper.n.01'),\n",
       " Synset('linen.n.02'),\n",
       " Synset('litmus_paper.n.01'),\n",
       " Synset('manifold_paper.n.01'),\n",
       " Synset('manila.n.01'),\n",
       " Synset('music_paper.n.01'),\n",
       " Synset('newspaper.n.04'),\n",
       " Synset('oilpaper.n.01'),\n",
       " Synset('pad.n.01'),\n",
       " Synset('paper_tape.n.01'),\n",
       " Synset('paper_toweling.n.01'),\n",
       " Synset('papier-mache.n.01'),\n",
       " Synset('papyrus.n.01'),\n",
       " Synset('parchment.n.01'),\n",
       " Synset('rice_paper.n.01'),\n",
       " Synset('roofing_paper.n.01'),\n",
       " Synset('sheet.n.02'),\n",
       " Synset('ticker_tape.n.01'),\n",
       " Synset('tissue.n.02'),\n",
       " Synset('tracing_paper.n.01'),\n",
       " Synset('transfer_paper.n.01'),\n",
       " Synset('wallpaper.n.01'),\n",
       " Synset('waste_paper.n.01'),\n",
       " Synset('wax_paper.n.01'),\n",
       " Synset('wrapping_paper.n.01'),\n",
       " Synset('writing_paper.n.01')]"
      ]
     },
     "execution_count": 94,
     "metadata": {},
     "output_type": "execute_result"
    }
   ],
   "source": [
    "paperHypernym.hyponyms()"
   ]
  },
  {
   "cell_type": "code",
   "execution_count": 95,
   "metadata": {
    "collapsed": true
   },
   "outputs": [],
   "source": [
    "def collect_hyponym_lemma_names(synset, hyponym_names):\n",
    "    for hyponym in synset.hyponyms(): \n",
    "        for lemma in hyponym.lemmas():\n",
    "            hyponym_names.append(lemma.name())\n",
    "        collect_hyponym_lemma_names(hyponym, hyponym_names)"
   ]
  },
  {
   "cell_type": "code",
   "execution_count": 99,
   "metadata": {
    "collapsed": false
   },
   "outputs": [
    {
     "name": "stdout",
     "output_type": "stream",
     "text": [
      "['spade', 'sports_page', 'spot', 'spread', 'spread_head', 'spreadhead', 'stamp', 'stationery', 'stopper', 'strawboard', 'style_sheet', 'suit', 'swinging_chad', 'tablet', 'tar_paper', 'tarot', 'tarot_card', 'tear_sheet', 'ten', 'ten-spot', 'three', 'ticker_tape', 'timecard', 'tissue', 'tissue_paper', 'title_page', 'toilet_paper', 'toilet_roll', 'toilet_tissue', 'tracing_paper', 'trading_card', 'transfer_paper', 'trey', 'tri-chad', 'trump', 'trump_card', 'two', 'typewriter_paper', 'typing_paper', 'vellum', 'verso', 'wallpaper', 'waste_paper', 'wax_paper', 'wild_card', 'worksheet', 'wove_paper', 'wrapping_paper', 'writing_pad', 'writing_paper']\n"
     ]
    }
   ],
   "source": [
    "material_hyponym_names = []\n",
    "collect_hyponym_lemma_names(paperHypernym, material_hyponym_names)\n",
    "material_hyponym_names = sorted(set(material_hyponym_names))\n",
    "print(material_hyponym_names[-50:])"
   ]
  },
  {
   "cell_type": "code",
   "execution_count": 100,
   "metadata": {
    "collapsed": false
   },
   "outputs": [
    {
     "name": "stdout",
     "output_type": "stream",
     "text": [
      "Synset('paper.n.01') has 3755 hyponyms\n"
     ]
    }
   ],
   "source": [
    "paper_hypernym_hyponyms = get_hyponym_names_from_hypernym(paperSynset)\n",
    "print(paperSynset, \"has\", len(paper_hypernym_hyponyms), \"hyponyms\")"
   ]
  },
  {
   "cell_type": "code",
   "execution_count": 102,
   "metadata": {
    "collapsed": false
   },
   "outputs": [
    {
     "data": {
      "text/plain": [
       "['down',\n",
       " 'preparation',\n",
       " 'eight',\n",
       " 'fur',\n",
       " 'shell',\n",
       " 'parchment',\n",
       " 'oak',\n",
       " 'two',\n",
       " 'jargon',\n",
       " 'four',\n",
       " 'crude',\n",
       " 'upper',\n",
       " 'counter',\n",
       " 'draw',\n",
       " 'dust',\n",
       " 'scrap',\n",
       " 'A',\n",
       " 'heart',\n",
       " 'spot',\n",
       " 'seven',\n",
       " 'size',\n",
       " 'base',\n",
       " 'G',\n",
       " 'jet',\n",
       " 'putty',\n",
       " 'paper',\n",
       " 'spade',\n",
       " 'five',\n",
       " 'sapphire',\n",
       " 'slip',\n",
       " 'fell',\n",
       " 'water',\n",
       " 'six',\n",
       " 'vellum',\n",
       " 'log',\n",
       " 'nine',\n",
       " 'rock',\n",
       " 'ruby',\n",
       " 'stamp',\n",
       " 'spread',\n",
       " 'three',\n",
       " 'color',\n",
       " 'emerald',\n",
       " 'wood',\n",
       " 'dirt',\n",
       " 'mould',\n",
       " 'ground',\n",
       " 'string',\n",
       " 'diamond',\n",
       " 'nitre',\n",
       " 'thus',\n",
       " 'soil',\n",
       " 'kid',\n",
       " 'charge',\n",
       " 'quarter',\n",
       " 'seal',\n",
       " 'leaf',\n",
       " 'foolscap',\n",
       " 'shot',\n",
       " 'stone',\n",
       " 'opal',\n",
       " 'silver',\n",
       " 'particle',\n",
       " 'sand',\n",
       " 'ten',\n",
       " 'slate',\n",
       " 'earth',\n",
       " 'till',\n",
       " 'stick',\n",
       " 'signature',\n",
       " 'chemical',\n",
       " 'bone']"
      ]
     },
     "execution_count": 102,
     "metadata": {},
     "output_type": "execute_result"
    }
   ],
   "source": [
    "paperRelatedWords = list(set([word for word in goldBugLemmas if word in paper_hypernym_hyponyms]))\n",
    "paperRelatedWords"
   ]
  },
  {
   "cell_type": "code",
   "execution_count": 103,
   "metadata": {
    "collapsed": false
   },
   "outputs": [
    {
     "name": "stdout",
     "output_type": "stream",
     "text": [
      "Displaying 1 of 1 matches:\n",
      " saw designed upon it You are well aware that chemical preparation exist and have existed time out o\n"
     ]
    }
   ],
   "source": [
    "goldBugText = nltk.Text(goldBugLemmas)\n",
    "goldBugText.concordance(\"chemical\", 100)"
   ]
  },
  {
   "cell_type": "code",
   "execution_count": 104,
   "metadata": {
    "collapsed": false
   },
   "outputs": [
    {
     "name": "stdout",
     "output_type": "stream",
     "text": [
      "Displaying 1 of 1 matches:\n",
      "n a few second he had uncovered a mass of human bone forming two complete skeleton intermingled with\n"
     ]
    }
   ],
   "source": [
    "goldBugText = nltk.Text(goldBugLemmas)\n",
    "goldBugText.concordance(\"bone\", 100)"
   ]
  },
  {
   "cell_type": "code",
   "execution_count": 108,
   "metadata": {
    "collapsed": true
   },
   "outputs": [],
   "source": [
    "paperLemmas = [\"paperword\" if word in paperRelatedWords else word for word in goldBugLemmas]"
   ]
  },
  {
   "cell_type": "code",
   "execution_count": 113,
   "metadata": {
    "collapsed": false
   },
   "outputs": [
    {
     "name": "stdout",
     "output_type": "stream",
     "text": [
      "292 17\n"
     ]
    },
    {
     "data": {
      "text/plain": [
       "1717.6470588235295"
      ]
     },
     "execution_count": 113,
     "metadata": {},
     "output_type": "execute_result"
    }
   ],
   "source": [
    "# having the hypernyms is waaaaay too broad.\n",
    "# I would definitely have to be careful about how to use this in the future.\n",
    "print(paperLemmas.count(\"paperword\"),goldBugTokens.count(\"paper\"))\n",
    "paperLemmas.count(\"paperword\") * 100 / goldBugTokens.count(\"paper\")"
   ]
  },
  {
   "cell_type": "code",
   "execution_count": null,
   "metadata": {
    "collapsed": true
   },
   "outputs": [],
   "source": []
  }
 ],
 "metadata": {
  "kernelspec": {
   "display_name": "Python 3",
   "language": "python",
   "name": "python3"
  },
  "language_info": {
   "codemirror_mode": {
    "name": "ipython",
    "version": 3
   },
   "file_extension": ".py",
   "mimetype": "text/x-python",
   "name": "python",
   "nbconvert_exporter": "python",
   "pygments_lexer": "ipython3",
   "version": "3.5.1"
  }
 },
 "nbformat": 4,
 "nbformat_minor": 0
}
