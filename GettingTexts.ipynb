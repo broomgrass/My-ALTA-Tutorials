{
 "cells": [
  {
   "cell_type": "markdown",
   "metadata": {},
   "source": [
    "# Getting Texts\n",
    "\n",
    "We are first going to experiment with loading a plain text into memory from the [Gutenberg Project](http://gutenberg.org), an online library with tens of thousands of free texts in different languages and formats. We can Google something like python3 read from url to discover pages like https://docs.python.org/3/howto/urllib2.html that explain the basics of reading content."
   ]
  },
  {
   "cell_type": "code",
   "execution_count": 2,
   "metadata": {
    "collapsed": false
   },
   "outputs": [
    {
     "name": "stdout",
     "output_type": "stream",
     "text": [
      "This string has 550321 characters\n"
     ]
    }
   ],
   "source": [
    "import urllib.request\n",
    "poeUrl = \"http://www.gutenberg.org/files/2147/2147-0.txt\"\n",
    "poeString = urllib.request.urlopen(poeUrl).read().decode().strip()\n",
    "print(\"This string has\", len(poeString), \"characters\")"
   ]
  },
  {
   "cell_type": "code",
   "execution_count": 3,
   "metadata": {
    "collapsed": false
   },
   "outputs": [
    {
     "name": "stdout",
     "output_type": "stream",
     "text": [
      "This string has 550,321 characters\n"
     ]
    }
   ],
   "source": [
    "poeStringLen = len(poeString)\n",
    "poeStringLenFormatted = \"{:,}\".format(poeStringLen) # format mini-language\n",
    "print(\"This string has\", poeStringLenFormatted, \"characters\")"
   ]
  },
  {
   "cell_type": "code",
   "execution_count": 4,
   "metadata": {
    "collapsed": false
   },
   "outputs": [
    {
     "data": {
      "text/plain": [
       "\"Project Gutenberg's The W\""
      ]
     },
     "execution_count": 4,
     "metadata": {},
     "output_type": "execute_result"
    }
   ],
   "source": [
    "poeString[:25]"
   ]
  },
  {
   "cell_type": "code",
   "execution_count": 5,
   "metadata": {
    "collapsed": false
   },
   "outputs": [
    {
     "name": "stdout",
     "output_type": "stream",
     "text": [
      "First character: P\n",
      "Last character .\n",
      "First 25 characters: Project Gutenberg's The W\n",
      "Last 25 characters: to hear about new eBooks.\n",
      "Characters 8 to 25: Gutenberg's The Works \n"
     ]
    }
   ],
   "source": [
    "print(\"First character:\", poeString[0])\n",
    "print(\"Last character\", poeString[-1])\n",
    "print(\"First 25 characters:\", poeString[:25])\n",
    "print(\"Last 25 characters:\", poeString[-25:])\n",
    "print(\"Characters 8 to 25:\", poeString[8:30])"
   ]
  },
  {
   "cell_type": "code",
   "execution_count": 6,
   "metadata": {
    "collapsed": false
   },
   "outputs": [
    {
     "name": "stdout",
     "output_type": "stream",
     "text": [
      "Occurrences of 'corpse': 65\n"
     ]
    }
   ],
   "source": [
    "print(\"Occurrences of 'corpse':\", poeString.count(\"corpse\"))\n"
   ]
  },
  {
   "cell_type": "code",
   "execution_count": 7,
   "metadata": {
    "collapsed": false
   },
   "outputs": [
    {
     "name": "stdout",
     "output_type": "stream",
     "text": [
      "Occurrences of 'corpse': 65\n",
      "Occurrences of 'corps': 65\n",
      "Occurrences of 'Corpse': 0\n"
     ]
    }
   ],
   "source": [
    "print(\"Occurrences of 'corpse':\", poeString.count(\"corpse\"))\n",
    "print(\"Occurrences of 'corps':\", poeString.count(\"corpse\"))\n",
    "print(\"Occurrences of 'Corpse':\", poeString.count(\"Corpse\"))"
   ]
  },
  {
   "cell_type": "code",
   "execution_count": 8,
   "metadata": {
    "collapsed": false
   },
   "outputs": [
    {
     "name": "stdout",
     "output_type": "stream",
     "text": [
      "Occurrences of 'CORPSE': 65\n"
     ]
    }
   ],
   "source": [
    "\n",
    "print(\"Occurrences of 'CORPSE':\", poeString.upper().count(\"CORPSE\"))"
   ]
  },
  {
   "cell_type": "code",
   "execution_count": 9,
   "metadata": {
    "collapsed": false
   },
   "outputs": [
    {
     "name": "stdout",
     "output_type": "stream",
     "text": [
      "and (horrible to relate!) the corpse of the daughter, head\r\n",
      "\n"
     ]
    }
   ],
   "source": [
    "firstCorpus = poeString.find(\"corpse\") # the index position of the first occurrence of \"corpse\"\n",
    "context = 30 # number of characters to show on either side of the index position\n",
    "print(poeString[firstCorpus-context : firstCorpus+context])"
   ]
  },
  {
   "cell_type": "code",
   "execution_count": 10,
   "metadata": {
    "collapsed": false
   },
   "outputs": [
    {
     "name": "stdout",
     "output_type": "stream",
     "text": [
      "THE GOLD-BUG\r\n",
      "\r\n",
      "          What ho! what ho! this f […]  it; perhaps it\r\n",
      "required a dozen--who shall tell?\"\n"
     ]
    }
   ],
   "source": [
    "start = poeString.find(\"THE GOLD-BUG\")\n",
    "end = poeString.find(\"FOUR BEASTS IN ONE\")\n",
    "goldBugString = poeString[start:end].strip()\n",
    "# show start and end of goldBugString\n",
    "print(goldBugString[:50], \"[…] \", goldBugString[-50:])"
   ]
  },
  {
   "cell_type": "code",
   "execution_count": 11,
   "metadata": {
    "collapsed": true
   },
   "outputs": [],
   "source": [
    "import os\n",
    "directory = \"data\"\n",
    "if not os.path.exists(directory):\n",
    "    os.makedirs(directory)"
   ]
  },
  {
   "cell_type": "code",
   "execution_count": 12,
   "metadata": {
    "collapsed": true
   },
   "outputs": [],
   "source": [
    "with open(\"data/goldBug.txt\", \"w\") as f:\n",
    "    f.write(goldBugString)"
   ]
  },
  {
   "cell_type": "code",
   "execution_count": 13,
   "metadata": {
    "collapsed": true
   },
   "outputs": [],
   "source": [
    "with open(\"data/goldBug.txt\", \"r\") as f:\n",
    "    goldBugString2 = f.read()"
   ]
  },
  {
   "cell_type": "code",
   "execution_count": 14,
   "metadata": {
    "collapsed": false
   },
   "outputs": [
    {
     "name": "stdout",
     "output_type": "stream",
     "text": [
      "THE GOLD-BUG\n",
      "\n",
      "\n",
      "\n",
      "          What ho! what ho! this f […]  it; perhaps it\n",
      "\n",
      "required a dozen--who shall tell?\"\n"
     ]
    }
   ],
   "source": [
    "print(goldBugString2[:50], \"[…] \", goldBugString2[-50:])"
   ]
  },
  {
   "cell_type": "code",
   "execution_count": 15,
   "metadata": {
    "collapsed": false
   },
   "outputs": [
    {
     "data": {
      "text/plain": [
       "False"
      ]
     },
     "execution_count": 15,
     "metadata": {},
     "output_type": "execute_result"
    }
   ],
   "source": [
    "\n",
    "goldBugString == goldBugString2 # are these two strings the same?"
   ]
  },
  {
   "cell_type": "code",
   "execution_count": 16,
   "metadata": {
    "collapsed": false
   },
   "outputs": [
    {
     "data": {
      "text/plain": [
       "['data\\\\goldBug.txt']"
      ]
     },
     "execution_count": 16,
     "metadata": {},
     "output_type": "execute_result"
    }
   ],
   "source": [
    "import glob\n",
    "textFiles = glob.glob(\"data/*txt\")\n",
    "textFiles"
   ]
  },
  {
   "cell_type": "code",
   "execution_count": 17,
   "metadata": {
    "collapsed": false
   },
   "outputs": [
    {
     "data": {
      "text/plain": [
       "list"
      ]
     },
     "execution_count": 17,
     "metadata": {},
     "output_type": "execute_result"
    }
   ],
   "source": [
    "\n",
    "type(textFiles)"
   ]
  },
  {
   "cell_type": "code",
   "execution_count": 18,
   "metadata": {
    "collapsed": false
   },
   "outputs": [
    {
     "name": "stdout",
     "output_type": "stream",
     "text": [
      "data\\goldBug.txt has 77916 characters\n",
      "total characters:  77916\n"
     ]
    }
   ],
   "source": [
    "totalCharacters = 0\n",
    "for textFile in textFiles:\n",
    "    f = open(textFile, \"r\")\n",
    "    textString = f.read()\n",
    "    f.close()\n",
    "    chars = len(textString)\n",
    "    print(textFile, \"has\", chars, \"characters\")\n",
    "    totalCharacters += chars\n",
    "print(\"total characters: \", totalCharacters)"
   ]
  },
  {
   "cell_type": "markdown",
   "metadata": {},
   "source": [
    "## On to the questions: \n",
    "- how would you create a subdirectory called Austen under the data directory we've already created?\n",
    "- for each of the plain text novels in English of Jane Austen in Project Gutenberg\n",
    "    - how would you isolate the text content (without the Project Gutenberg header and footer)?\n",
    "    - how would you save the text-only content into the data/Austen directory?\n",
    "- how would you loop over the files in the data/Austen directory and for each one print the file name and a count of \"his\" and \"her\"?\n",
    "- what is the total number of characters in the Austen corpus?"
   ]
  },
  {
   "cell_type": "markdown",
   "metadata": {},
   "source": [
    "There must be a more efficient way to grab all the Jane Austen texts at once, rather than doing them one by one, but for the sake of practice (and until I ask Stefan, I'll do two (P&P and Emma) and see if I can figure out how to do at least some basic looping."
   ]
  },
  {
   "cell_type": "markdown",
   "metadata": {},
   "source": [
    "First, Pride and Prejudice"
   ]
  },
  {
   "cell_type": "code",
   "execution_count": 19,
   "metadata": {
    "collapsed": false
   },
   "outputs": [
    {
     "name": "stdout",
     "output_type": "stream",
     "text": [
      "this string has 717570 characters\n"
     ]
    }
   ],
   "source": [
    "import urllib.request\n",
    "austenUrl= \"http://www.gutenberg.org/cache/epub/1342/pg1342.txt\"\n",
    "austenString = urllib.request.urlopen(austenUrl).read().decode().strip()\n",
    "print(\"this string has\", len(austenString), \"characters\")"
   ]
  },
  {
   "cell_type": "code",
   "execution_count": 59,
   "metadata": {
    "collapsed": false
   },
   "outputs": [
    {
     "name": "stdout",
     "output_type": "stream",
     "text": [
      "Chapter 1\r\n",
      "\r\n",
      "\r\n",
      "It is a truth universally acknowled [...] to Derbyshire, had been the means of uniting them.\n"
     ]
    }
   ],
   "source": [
    "start = austenString.find(\"Chapter 1\")\n",
    "end = austenString.find(\"End of the Project\")\n",
    "prideString = austenString[start:end].strip()\n",
    "print(prideString[:50], \"[...]\", prideString[-50:])"
   ]
  },
  {
   "cell_type": "code",
   "execution_count": 60,
   "metadata": {
    "collapsed": true
   },
   "outputs": [],
   "source": [
    "with open(\"data/pride.txt\", \"w\") as f:\n",
    "    f.write(prideString)"
   ]
  },
  {
   "cell_type": "code",
   "execution_count": 61,
   "metadata": {
    "collapsed": true
   },
   "outputs": [],
   "source": [
    "with open(\"data/pride.txt\", \"r\") as f:\n",
    "    prideString2 = f.read()"
   ]
  },
  {
   "cell_type": "code",
   "execution_count": 62,
   "metadata": {
    "collapsed": false
   },
   "outputs": [
    {
     "name": "stdout",
     "output_type": "stream",
     "text": [
      "Chapter 1\n",
      "\n",
      "\n",
      "\n",
      "\n",
      "\n",
      "It is a truth universally acknowled [...] to Derbyshire, had been the means of uniting them.\n"
     ]
    }
   ],
   "source": [
    "print(prideString2[:50], \"[...]\", prideString2[-50:])"
   ]
  },
  {
   "cell_type": "markdown",
   "metadata": {},
   "source": [
    "Okay, now for Emma"
   ]
  },
  {
   "cell_type": "code",
   "execution_count": 64,
   "metadata": {
    "collapsed": true
   },
   "outputs": [],
   "source": [
    "import urllib.request\n",
    "emmaUrl= \"http://www.gutenberg.org/cache/epub/158/pg158.txt\"\n",
    "emmaString = urllib.request.urlopen(emmaUrl).read().decode().strip()"
   ]
  },
  {
   "cell_type": "code",
   "execution_count": 67,
   "metadata": {
    "collapsed": false
   },
   "outputs": [
    {
     "name": "stdout",
     "output_type": "stream",
     "text": [
      "VOLUME I\r\n",
      "\r\n",
      "\r\n",
      "\r\n",
      "CHAPTER I\r\n",
      "\r\n",
      "\r\n",
      "Emma Woodhouse, han [...] n the perfect happiness of the union.\r\n",
      "\r\n",
      "\r\n",
      "\r\n",
      "FINIS\n"
     ]
    }
   ],
   "source": [
    "start = emmaString.find(\"VOLUME I\")\n",
    "end = emmaString.find(\"End of the Project\")\n",
    "trueEmmaString = emmaString[start:end].strip()\n",
    "print(trueEmmaString[:50], \"[...]\", trueEmmaString[-50:])"
   ]
  },
  {
   "cell_type": "code",
   "execution_count": 68,
   "metadata": {
    "collapsed": true
   },
   "outputs": [],
   "source": [
    "with open(\"data/emma.txt\", \"w\") as f:\n",
    "    f.write(trueEmmaString)"
   ]
  },
  {
   "cell_type": "code",
   "execution_count": 69,
   "metadata": {
    "collapsed": true
   },
   "outputs": [],
   "source": [
    "with open(\"data/emma.txt\", \"r\") as f:\n",
    "    emmaString2 = f.read()"
   ]
  },
  {
   "cell_type": "code",
   "execution_count": 70,
   "metadata": {
    "collapsed": false
   },
   "outputs": [
    {
     "name": "stdout",
     "output_type": "stream",
     "text": [
      "VOLUME I\n",
      "\n",
      "\n",
      "\n",
      "\n",
      "\n",
      "\n",
      "\n",
      "CHAPTER I\n",
      "\n",
      "\n",
      "\n",
      "\n",
      "\n",
      "Emma Woodhouse, han [...] n the perfect happiness of the union.\n",
      "\n",
      "\n",
      "\n",
      "\n",
      "\n",
      "\n",
      "\n",
      "FINIS\n"
     ]
    }
   ],
   "source": [
    "print(emmaString2[:50], \"[...]\", emmaString2[-50:])"
   ]
  },
  {
   "cell_type": "markdown",
   "metadata": {},
   "source": [
    "Okay, I have the files saved, I think. Let's just check - "
   ]
  },
  {
   "cell_type": "code",
   "execution_count": 82,
   "metadata": {
    "collapsed": false
   },
   "outputs": [
    {
     "data": {
      "text/plain": [
       "['data\\\\emma.txt', 'data\\\\goldBug.txt', 'data\\\\pride.txt']"
      ]
     },
     "execution_count": 82,
     "metadata": {},
     "output_type": "execute_result"
    }
   ],
   "source": [
    "import glob\n",
    "textFiles = glob.glob(\"data/*txt\")\n",
    "textFiles"
   ]
  },
  {
   "cell_type": "markdown",
   "metadata": {},
   "source": [
    "Let's just say, hypothetically, that goldBug isn't there. Next step is to somehow loop these files (ruh-roh)"
   ]
  },
  {
   "cell_type": "code",
   "execution_count": 80,
   "metadata": {
    "collapsed": false
   },
   "outputs": [
    {
     "name": "stdout",
     "output_type": "stream",
     "text": [
      "total characters:  0\n"
     ]
    }
   ],
   "source": [
    "totalCharacters = 0\n",
    "for textFile in textFiles:\n",
    "    f = open(textFile, \"r\")\n",
    "    textString = f.read()\n",
    "    f.close()\n",
    "    chars = len(textString)\n",
    "    print(textFile, \"has\", chars, \"characters\")\n",
    "    totalCharacters += chars\n",
    "print(\"total characters: \", totalCharacters)"
   ]
  },
  {
   "cell_type": "code",
   "execution_count": null,
   "metadata": {
    "collapsed": true
   },
   "outputs": [],
   "source": []
  }
 ],
 "metadata": {
  "kernelspec": {
   "display_name": "Python 3",
   "language": "python",
   "name": "python3"
  },
  "language_info": {
   "codemirror_mode": {
    "name": "ipython",
    "version": 3
   },
   "file_extension": ".py",
   "mimetype": "text/x-python",
   "name": "python",
   "nbconvert_exporter": "python",
   "pygments_lexer": "ipython3",
   "version": "3.5.1"
  }
 },
 "nbformat": 4,
 "nbformat_minor": 0
}
