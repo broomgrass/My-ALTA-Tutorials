{
 "cells": [
  {
   "cell_type": "markdown",
   "metadata": {},
   "source": [
    "## On to the questions: \n",
    "- how would you create a subdirectory called Austen under the data directory we've already created?\n",
    "- for each of the plain text novels in English of Jane Austen in Project Gutenberg\n",
    "    - how would you isolate the text content (without the Project Gutenberg header and footer)?\n",
    "    - how would you save the text-only content into the data/Austen directory?\n",
    "- how would you loop over the files in the data/Austen directory and for each one print the file name and a count of \"his\" and \"her\"?\n",
    "- what is the total number of characters in the Austen corpus?"
   ]
  },
  {
   "cell_type": "markdown",
   "metadata": {},
   "source": [
    "There must be a more efficient way to grab all the Jane Austen texts at once, rather than doing them one by one, but for the sake of practice (and until I ask Stefan, I'll do two (P&P and Emma) and see if I can figure out how to do at least some basic looping."
   ]
  },
  {
   "cell_type": "markdown",
   "metadata": {},
   "source": [
    "First, Pride and Prejudice"
   ]
  },
  {
   "cell_type": "code",
   "execution_count": 1,
   "metadata": {
    "collapsed": false
   },
   "outputs": [
    {
     "name": "stdout",
     "output_type": "stream",
     "text": [
      "this string has 717570 characters\n"
     ]
    }
   ],
   "source": [
    "import urllib.request\n",
    "austenUrl= \"http://www.gutenberg.org/cache/epub/1342/pg1342.txt\"\n",
    "austenString = urllib.request.urlopen(austenUrl).read().decode().strip()\n",
    "print(\"this string has\", len(austenString), \"characters\")"
   ]
  },
  {
   "cell_type": "code",
   "execution_count": 2,
   "metadata": {
    "collapsed": false
   },
   "outputs": [
    {
     "name": "stdout",
     "output_type": "stream",
     "text": [
      "Chapter 1\r\n",
      "\r\n",
      "\r\n",
      "It is a truth universally acknowled [...] to Derbyshire, had been the means of uniting them.\n"
     ]
    }
   ],
   "source": [
    "start = austenString.find(\"Chapter 1\")\n",
    "end = austenString.find(\"End of the Project\")\n",
    "prideString = austenString[start:end].strip()\n",
    "print(prideString[:50], \"[...]\", prideString[-50:])"
   ]
  },
  {
   "cell_type": "code",
   "execution_count": 3,
   "metadata": {
    "collapsed": true
   },
   "outputs": [],
   "source": [
    "with open(\"data/pride.txt\", \"w\") as f:\n",
    "    f.write(prideString)"
   ]
  },
  {
   "cell_type": "code",
   "execution_count": 4,
   "metadata": {
    "collapsed": true
   },
   "outputs": [],
   "source": [
    "with open(\"data/pride.txt\", \"r\") as f:\n",
    "    prideString2 = f.read()"
   ]
  },
  {
   "cell_type": "code",
   "execution_count": 5,
   "metadata": {
    "collapsed": false
   },
   "outputs": [
    {
     "name": "stdout",
     "output_type": "stream",
     "text": [
      "Chapter 1\n",
      "\n",
      "\n",
      "\n",
      "\n",
      "\n",
      "It is a truth universally acknowled [...] to Derbyshire, had been the means of uniting them.\n"
     ]
    }
   ],
   "source": [
    "print(prideString2[:50], \"[...]\", prideString2[-50:])"
   ]
  },
  {
   "cell_type": "markdown",
   "metadata": {},
   "source": [
    "Okay, now for Emma"
   ]
  },
  {
   "cell_type": "code",
   "execution_count": 6,
   "metadata": {
    "collapsed": true
   },
   "outputs": [],
   "source": [
    "import urllib.request\n",
    "emmaUrl= \"http://www.gutenberg.org/cache/epub/158/pg158.txt\"\n",
    "emmaString = urllib.request.urlopen(emmaUrl).read().decode().strip()"
   ]
  },
  {
   "cell_type": "code",
   "execution_count": 7,
   "metadata": {
    "collapsed": false
   },
   "outputs": [
    {
     "name": "stdout",
     "output_type": "stream",
     "text": [
      "VOLUME I\r\n",
      "\r\n",
      "\r\n",
      "\r\n",
      "CHAPTER I\r\n",
      "\r\n",
      "\r\n",
      "Emma Woodhouse, han [...] n the perfect happiness of the union.\r\n",
      "\r\n",
      "\r\n",
      "\r\n",
      "FINIS\n"
     ]
    }
   ],
   "source": [
    "start = emmaString.find(\"VOLUME I\")\n",
    "end = emmaString.find(\"End of the Project\")\n",
    "trueEmmaString = emmaString[start:end].strip()\n",
    "print(trueEmmaString[:50], \"[...]\", trueEmmaString[-50:])"
   ]
  },
  {
   "cell_type": "code",
   "execution_count": 8,
   "metadata": {
    "collapsed": true
   },
   "outputs": [],
   "source": [
    "with open(\"data/emma.txt\", \"w\") as f:\n",
    "    f.write(trueEmmaString)"
   ]
  },
  {
   "cell_type": "code",
   "execution_count": 9,
   "metadata": {
    "collapsed": true
   },
   "outputs": [],
   "source": [
    "with open(\"data/emma.txt\", \"r\") as f:\n",
    "    emmaString2 = f.read()"
   ]
  },
  {
   "cell_type": "code",
   "execution_count": 10,
   "metadata": {
    "collapsed": false
   },
   "outputs": [
    {
     "name": "stdout",
     "output_type": "stream",
     "text": [
      "VOLUME I\n",
      "\n",
      "\n",
      "\n",
      "\n",
      "\n",
      "\n",
      "\n",
      "CHAPTER I\n",
      "\n",
      "\n",
      "\n",
      "\n",
      "\n",
      "Emma Woodhouse, han [...] n the perfect happiness of the union.\n",
      "\n",
      "\n",
      "\n",
      "\n",
      "\n",
      "\n",
      "\n",
      "FINIS\n"
     ]
    }
   ],
   "source": [
    "print(emmaString2[:50], \"[...]\", emmaString2[-50:])"
   ]
  },
  {
   "cell_type": "markdown",
   "metadata": {},
   "source": [
    "Okay, I have the files saved, I think. Let's just check - "
   ]
  },
  {
   "cell_type": "code",
   "execution_count": 11,
   "metadata": {
    "collapsed": false
   },
   "outputs": [
    {
     "data": {
      "text/plain": [
       "['data\\\\emma.txt', 'data\\\\goldBug.txt', 'data\\\\pride.txt']"
      ]
     },
     "execution_count": 11,
     "metadata": {},
     "output_type": "execute_result"
    }
   ],
   "source": [
    "import glob\n",
    "textFiles = glob.glob(\"data/*txt\")\n",
    "textFiles"
   ]
  },
  {
   "cell_type": "markdown",
   "metadata": {},
   "source": [
    "Let's just say, hypothetically, that goldBug isn't there. Next step is to somehow loop these files (ruh-roh)"
   ]
  },
  {
   "cell_type": "code",
   "execution_count": 12,
   "metadata": {
    "collapsed": false
   },
   "outputs": [
    {
     "name": "stdout",
     "output_type": "stream",
     "text": [
      "data\\emma.txt has 899229 characters\n",
      "data\\goldBug.txt has 77916 characters\n",
      "data\\pride.txt has 697751 characters\n",
      "total characters:  1674896\n"
     ]
    }
   ],
   "source": [
    "totalCharacters = 0\n",
    "for textFile in textFiles:\n",
    "    f = open(textFile, \"r\")\n",
    "    textString = f.read()\n",
    "    f.close()\n",
    "    chars = len(textString)\n",
    "    print(textFile, \"has\", chars, \"characters\")\n",
    "    totalCharacters += chars\n",
    "print(\"total characters: \", totalCharacters)"
   ]
  },
  {
   "cell_type": "code",
   "execution_count": 24,
   "metadata": {
    "collapsed": false
   },
   "outputs": [
    {
     "name": "stdout",
     "output_type": "stream",
     "text": [
      "Occurrences of 'HIS': 1760\n"
     ]
    }
   ],
   "source": [
    "print(\"Occurrences of 'HIS':\", emmaString.upper().count(\"HIS\"))"
   ]
  },
  {
   "cell_type": "code",
   "execution_count": 29,
   "metadata": {
    "collapsed": false
   },
   "outputs": [
    {
     "name": "stdout",
     "output_type": "stream",
     "text": [
      "data\\emma.txt has 1713 instances of HIS\n",
      "data\\emma.txt has 5022 instances of HER\n",
      "data\\goldBug.txt has 187 instances of HIS\n",
      "data\\goldBug.txt has 165 instances of HER\n",
      "data\\pride.txt has 1744 instances of HIS\n",
      "data\\pride.txt has 4382 instances of HER\n"
     ]
    }
   ],
   "source": [
    "for textFile in textFiles:\n",
    "    f = open(textFile, \"r\")\n",
    "    textString = f.read()\n",
    "    f.close()\n",
    "    gender1 = textString.upper().count(\"HIS\")\n",
    "    gender2 = textString.upper().count(\"HER\")\n",
    "    print(textFile, \"has\", gender1, \"instances of HIS\")\n",
    "    print(textFile, \"has\", gender2, \"instances of HER\")"
   ]
  },
  {
   "cell_type": "code",
   "execution_count": null,
   "metadata": {
    "collapsed": true
   },
   "outputs": [],
   "source": []
  }
 ],
 "metadata": {
  "kernelspec": {
   "display_name": "Python 3",
   "language": "python",
   "name": "python3"
  },
  "language_info": {
   "codemirror_mode": {
    "name": "ipython",
    "version": 3
   },
   "file_extension": ".py",
   "mimetype": "text/x-python",
   "name": "python",
   "nbconvert_exporter": "python",
   "pygments_lexer": "ipython3",
   "version": "3.5.1"
  }
 },
 "nbformat": 4,
 "nbformat_minor": 0
}
